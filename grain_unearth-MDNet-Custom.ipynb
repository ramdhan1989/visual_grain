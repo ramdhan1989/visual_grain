{
 "cells": [
  {
   "cell_type": "code",
   "execution_count": 1,
   "metadata": {
    "executionInfo": {
     "elapsed": 2716,
     "status": "ok",
     "timestamp": 1624439925606,
     "user": {
      "displayName": "ramdhan wibawa",
      "photoUrl": "",
      "userId": "14519448541243845830"
     },
     "user_tz": -420
    },
    "id": "mW8mQghJfh6D"
   },
   "outputs": [
    {
     "name": "stderr",
     "output_type": "stream",
     "text": [
      "Using TensorFlow backend.\n"
     ]
    }
   ],
   "source": [
    "import logging\n",
    "import sys\n",
    "import os\n",
    "from os import getenv\n",
    "from os.path import abspath, basename, split,dirname\n",
    "import tarfile\n",
    "from shutil import copyfile\n",
    "import random, glob\n",
    "from skimage.util import random_noise\n",
    "from skimage.transform import rotate\n",
    "import time\n",
    "import numpy as np\n",
    "import math\n",
    "import matplotlib.pyplot as plt\n",
    "from scipy.stats import gmean\n",
    "\n",
    "import tensorflow as tf\n",
    "import tensorflow_datasets as tfds\n",
    "#import efficientnet.keras as efn\n",
    "#from efficientnet.tfkeras import EfficientNetB2\n",
    "from tensorflow.keras.applications import EfficientNetB0,EfficientNetB3, EfficientNetB2, EfficientNetB7\n",
    "from tensorflow.keras.applications.resnet50 import ResNet50\n",
    "from tensorflow.keras.applications.resnet import ResNet101\n",
    "from tensorflow.keras.applications.inception_v3 import InceptionV3\n",
    "from tensorflow.keras.applications.mobilenet import MobileNet\n",
    "from tensorflow.keras.applications.densenet import DenseNet121, DenseNet169, DenseNet201\n",
    "from tensorflow.keras import layers\n",
    "from tensorflow import keras\n",
    "import tensorflow_addons as tfa\n",
    "from tensorflow.keras.applications.efficientnet import preprocess_input\n",
    "#from tensorflow.keras.applications.mobilenet import preprocess_input\n",
    "from keras.preprocessing.image import ImageDataGenerator\n",
    "import tensorflow.keras.backend as K\n",
    "from sklearn.metrics import accuracy_score\n",
    "from tensorflow.keras.callbacks import ModelCheckpoint\n",
    "from keras.utils.vis_utils import plot_model\n",
    "from tensorflow.keras.layers import Flatten, Concatenate, Cropping2D\n",
    "from tensorflow.keras.layers import Input, Dense, Activation, BatchNormalization, Dropout\n",
    "from tensorflow.keras.layers import Conv2D, AveragePooling2D, GlobalMaxPooling2D\n",
    "from tensorflow.keras.models import Model"
   ]
  },
  {
   "cell_type": "raw",
   "metadata": {},
   "source": [
    "logger = logging.getLogger(__name__)\n",
    "logging.basicConfig(level=logging.INFO)\n",
    "ds_build_cmd = \"tfds build grains --manual_dir=\" + \"D:/Ramdhan/Unearth/visual-grain-analysis/data/public2\"\n",
    "logger.info(ds_build_cmd)\n",
    "os.system(ds_build_cmd)"
   ]
  },
  {
   "cell_type": "raw",
   "metadata": {},
   "source": [
    "model1 = DenseNet121(weights='imagenet', include_top=False, input_shape=(224, 224, 3))\n",
    "l = 0\n",
    "for layer in model1.layers:\n",
    "    l+=1\n",
    "    print(layer.name)\n",
    "print(l)"
   ]
  },
  {
   "cell_type": "code",
   "execution_count": 2,
   "metadata": {
    "executionInfo": {
     "elapsed": 493,
     "status": "ok",
     "timestamp": 1624440223471,
     "user": {
      "displayName": "ramdhan wibawa",
      "photoUrl": "",
      "userId": "14519448541243845830"
     },
     "user_tz": -420
    },
    "id": "-GFNqiGNfh6F"
   },
   "outputs": [],
   "source": [
    "logger = logging.getLogger(__name__)\n",
    "logging.basicConfig(level=logging.INFO)\n",
    "IMG_SIZE = 224\n",
    "LBL = dict(zip(['B_BSMUT1', 'B_CLEV5B', 'B_DISTO', 'B_GRMEND', 'B_HDBARL',\n",
    "       'B_PICKLD', 'B_SKINED', 'B_SOUND', 'B_SPRTED', 'B_SPTMLD',\n",
    "       'O_GROAT', 'O_HDOATS', 'O_SEPAFF', 'O_SOUND', 'O_SPOTMA',\n",
    "       'WD_RADPODS', 'WD_RYEGRASS', 'WD_SPEARGRASS', 'WD_WILDOATS',\n",
    "       'W_DISTO', 'W_FLDFUN', 'W_INSDA2', 'W_PICKLE', 'W_SEVERE',\n",
    "       'W_SOUND', 'W_SPROUT', 'W_STAIND', 'W_WHITEG'], range(28)))\n",
    "\n",
    "cls_map = dict(zip(LBL.values(),LBL.keys()))\n",
    "\n",
    "model_version = '001'\n",
    "\n",
    "# Work around for a SageMaker path issue\n",
    "# (see https://github.com/aws/sagemaker-python-sdk/issues/648)\n",
    "# WARNING - removing this may cause the submission process to fail\n",
    "#if abspath(\"D:/Ramdhan/Unearth/visual-grain-analysis\") not in sys.path:\n",
    " #   sys.path.append(abspath(\"D:/Ramdhan/Unearth/visual-grain-analysis\"))\n",
    "\n",
    "def input_preprocess(image, label):\n",
    "    label = tf.one_hot(label, NUM_CLASSES)\n",
    "    return image, label\n",
    "\n",
    "def get_subfolders(directory):\n",
    "    subfolders = os.listdir(directory)\n",
    "    subfolders.sort()\n",
    "    return subfolders\n",
    "\n",
    "def save_class_list(class_list):\n",
    "    class_list.sort()\n",
    "    target=open(\"class_list.txt\",'w')\n",
    "    for c in class_list:\n",
    "        target.write(c)\n",
    "        target.write(\"\\n\")\n",
    "\n",
    "def get_num_files(directory):\n",
    "    if not os.path.exists(directory):\n",
    "        return 0\n",
    "    cnt = 0\n",
    "    for r, dirs, files in os.walk(directory):\n",
    "        for dr in dirs:\n",
    "            cnt += len(glob.glob(os.path.join(r, dr + \"/*\")))\n",
    "    return cnt\n",
    "\n",
    "def outer_product(x):\n",
    "    #Einstein Notation  [batch,1,1,depth] x [batch,1,1,depth] -> [batch,depth,depth]\n",
    "    phi_I = tf.einsum('ijkm,ijkn->imn',x[0],x[1])\n",
    "    \n",
    "    # Reshape from [batch_size,depth,depth] to [batch_size, depth*depth]\n",
    "    phi_I = tf.reshape(phi_I,[-1,x[0].shape[3]*x[1].shape[3]])\n",
    "    \n",
    "    # Divide by feature map size [sizexsize]\n",
    "    size1 = int(x[1].shape[1])\n",
    "    size2 = int(x[1].shape[2])\n",
    "    phi_I = tf.divide(phi_I, size1*size2)\n",
    "    \n",
    "    # Take signed square root of phi_I\n",
    "    y_ssqrt = tf.multiply(tf.sign(phi_I),tf.sqrt(tf.abs(phi_I)+1e-12))\n",
    "    \n",
    "    # Apply l2 normalization\n",
    "    z_l2 = tf.nn.l2_normalize(y_ssqrt, axis=1)\n",
    "    return z_l2\n",
    "\n",
    "def get_cosine_schedule_with_warmup(lr, num_warmup_steps, num_training_steps, num_cycles=0.5):\n",
    "    \"\"\"\n",
    "    Modified the get_cosine_schedule_with_warmup from huggingface for tensorflow\n",
    "    (https://huggingface.co/transformers/_modules/transformers/optimization.html#get_cosine_schedule_with_warmup)\n",
    "\n",
    "    Create a schedule with a learning rate that decreases following the\n",
    "    values of the cosine function between 0 and `pi * cycles` after a warmup\n",
    "    period during which it increases linearly between 0 and 1.\n",
    "    \"\"\"\n",
    "\n",
    "    def lrfn(epoch):\n",
    "        if epoch < num_warmup_steps:\n",
    "            return float(epoch) / float(max(1, num_warmup_steps)) * lr\n",
    "        progress = float(epoch - num_warmup_steps) / float(max(1, num_training_steps - num_warmup_steps))\n",
    "        return max(0.0, 0.5 * (1.0 + math.cos(math.pi * float(num_cycles) * 2.0 * progress))) * lr\n",
    "\n",
    "    return tf.keras.callbacks.LearningRateScheduler(lrfn, verbose=True)\n",
    "\n",
    "def rotate_tensor(image):\n",
    "    degree = tf.random.normal([])*360\n",
    "    image = tfa.image.rotate(image, degree * math.pi / 180)\n",
    "    return image\n",
    "\n",
    "def input_preprocess_train(image, label):\n",
    "    label = tf.one_hot(label, NUM_CLASSES)\n",
    "    image = rotate_tensor(image)\n",
    "    #image = tf.cast(image,'float32')#/255.0 #activate for densenet\n",
    "    image = preprocess_input(image)\n",
    "    return image, label\n",
    "\n",
    "def input_preprocess_val(image, label):\n",
    "    label = tf.one_hot(label, NUM_CLASSES)\n",
    "    #image = tf.cast(image,'float32')#255.0 #activate for densenet\n",
    "    image = preprocess_input(image)\n",
    "    return image, label\n",
    "\n",
    "def train(args):\n",
    "    global NUM_CLASSES\n",
    "    \"\"\"Train\n",
    "    \"\"\"\n",
    "    logger.info(\"calling training function\")\n",
    "\n",
    "    ### Build the tensorflow dataset from downloaded files\n",
    "    \n",
    "    TRAIN_DIR = os.path.join(args['data_dir'],  'train')\n",
    "    VAL_DIR = os.path.join(args['data_dir'], 'val')\n",
    "    \n",
    "    class_list = get_subfolders(TRAIN_DIR)\n",
    "    NUM_CLASSES = len(class_list)\n",
    "    save_class_list(class_list)\n",
    "    \n",
    "    size = (IMG_SIZE, IMG_SIZE)\n",
    "    batch_size = 32\n",
    "\n",
    "    train_ds = tf.keras.preprocessing.image_dataset_from_directory(\n",
    "        TRAIN_DIR,\n",
    "        image_size=size,\n",
    "        batch_size=batch_size,\n",
    "        interpolation='nearest')\n",
    "\n",
    "    val_ds = tf.keras.preprocessing.image_dataset_from_directory(\n",
    "        VAL_DIR,\n",
    "        image_size=size,\n",
    "        batch_size=batch_size,\n",
    "        interpolation='nearest')\n",
    "    \n",
    "    train_ds = train_ds.map(input_preprocess_train)\n",
    "    val_ds = val_ds.map(input_preprocess_val)\n",
    "    \n",
    "    #ds_build_cmd = \"tfds build grains --manual_dir=\" + args['data_dir']\n",
    "    #logger.info(ds_build_cmd)\n",
    "    #os.system(ds_build_cmd)\n",
    "\n",
    "    logger.info(\"Training Model\")\n",
    "    #strategy = tf.distribute.MirroredStrategy()\n",
    "    \n",
    "    #dataset_name = \"grains\"\n",
    "    #(ds_train, ds_test), ds_info = tfds.load(dataset_name, split=[\"train\", \"val\"], with_info=True, as_supervised=True)\n",
    "\n",
    "    num_train_images = get_num_files(TRAIN_DIR)\n",
    "    num_val_images = get_num_files(VAL_DIR)\n",
    "\n",
    "    logger.info(\"number of classes is \" + str(NUM_CLASSES))\n",
    "\n",
    "    #with strategy.scope():\n",
    "    #model = build_model(num_classes=NUM_CLASSES)\n",
    "    #model = build_model_bilinear(num_classes=NUM_CLASSES)\n",
    "    model = build_MDNet_custom()\n",
    "    filename = 'best.h5'\n",
    "    #reduce_lr = tf.keras.callbacks.ReduceLROnPlateau(monitor='loss', factor=0.5, patience=50, min_lr=0.0001)\n",
    "    checkpoint = ModelCheckpoint(filename, monitor='val_acc_grain', verbose=1, save_best_only=True, mode='max')\n",
    "    stop = tf.keras.callbacks.EarlyStopping(monitor='val_loss', patience=40, mode= 'min', min_delta=0.00)\n",
    "    lr_schedule= get_cosine_schedule_with_warmup(lr=0.001, num_warmup_steps=4, num_training_steps=10)\n",
    "\n",
    "    # This comes from an environment variable so we can set it to 1 for our\n",
    "    # development pipeline. Feel free to set this to any value.\n",
    "    weights = dict(zip([0,1,2,3,4,5,6,7,8,9,10,11,12,13,14,15,16,17,18,19,20,21,22,23,24,25,26,27], [1,1,1,1,1,1,1,8.94,1,1,1,1,1,8.94,1,1,1,1,1,1,1,1,1,1,8.94,1,1,1]))\n",
    "    \n",
    "    history = model.fit(train_ds, epochs=10, validation_data=val_ds, shuffle=True,\n",
    "                        callbacks=[stop,checkpoint,lr_schedule],#steps_per_epoch=num_train_images/batch_size,\n",
    "              verbose=1, class_weight=weights \n",
    "                        #, workers=0, steps_per_epoch=num_train_images // batch_size, \n",
    "        #, validation_steps=num_val_images // batch_size,shuffle=True\n",
    "                        #,callbacks=callbacks_list\n",
    "                       )\n",
    "    #save_model(model,args['model_dir'])\n",
    "    #save_model(model,filename)\n",
    "    \n",
    "    return history\n",
    "\n",
    "def build_MDNet_custom(num_classes=28, img_dim=(224,224,3), num_pipelines=4, dropout_rate=0.5, decrease_by=0.25):\n",
    "    '''\n",
    "    MDNet parameters as stated in the paper:\n",
    "    num_classes = 9,\n",
    "    img_dim = (112, 112, 3),\n",
    "    num_pipelines = 4,\n",
    "    num_blocks = 4,\n",
    "    num_layers = 5,\n",
    "    num_filters = 8 (?),\n",
    "    dropout_rate = .5,\n",
    "    decrease_by = .25\n",
    "    '''\n",
    "   \n",
    "    assert img_dim[0] == img_dim[1]\n",
    "    assert num_pipelines > 1\n",
    "    pipelines = []\n",
    "\n",
    "    model_input = Input(shape = img_dim)\n",
    "    \n",
    "    model = EfficientNetB2(weights='imagenet', include_top=False, input_shape=(None, None, 3), pooling='avg')\n",
    "    \n",
    "    for layer in model.layers[:-1]:\n",
    "        layer.trainable = False\n",
    "\n",
    "    # Number of pipelines\n",
    "    for pipeline_idx in range(num_pipelines):\n",
    "\n",
    "        new_dim = int(img_dim[0] * (pipeline_idx * decrease_by)) if pipeline_idx != 0 else img_dim[0]\n",
    "        crop_by = int(new_dim/2) if pipeline_idx != 0 else 0\n",
    "\n",
    "        x = Cropping2D(cropping = crop_by, name = 'Cropped_by_' + str(crop_by))(model_input)\n",
    "        \n",
    "        out = model(x)\n",
    "        \n",
    "        pipelines.append(out)\n",
    "    \n",
    "    x = Concatenate(axis = -1)(pipelines)\n",
    "    \n",
    "    x = Dropout(dropout_rate)(x)\n",
    "\n",
    "    # Two fully connected layers\n",
    "    x = Dense(512)(x)\n",
    "    x = BatchNormalization()(x)\n",
    "    x = Activation('relu')(x)\n",
    "    x = Dropout(dropout_rate)(x)\n",
    "\n",
    "    model_output = Dense(num_classes, activation = 'softmax', name='pred')(x)\n",
    "    model = Model(inputs = model_input, outputs = model_output, name = \"MDNet\")\n",
    "    model.compile(optimizer='adam', loss=\"categorical_crossentropy\", metrics=[acc_grain],run_eagerly=True)\n",
    "    \n",
    "    return model\n",
    "\n",
    "def acc_grain(y_true, y_pred):\n",
    "    y_true_class = K.argmax(y_true, axis=-1)\n",
    "    y_pred_class = K.argmax(y_pred, axis=-1)\n",
    "    sample_weight = np.hstack((np.where(y_true_class.numpy().reshape(-1,1)==7,True,False),np.where(y_true_class.numpy().reshape(-1,1)==24,True,False),np.where(y_true_class.numpy().reshape(-1,1)==13,True,False)))\n",
    "    sample_weight = np.any(sample_weight,axis=1)\n",
    "    sample_weight = np.where(sample_weight,8.94,1.0)\n",
    "    return K.constant(accuracy_score(y_true_class,y_pred_class,sample_weight=sample_weight))\n",
    "    \n",
    "def save_model(model, model_dir):\n",
    "    \"\"\"Save model to a binary file.\n",
    "\n",
    "    This function must write the model to disk in a format that can\n",
    "    be loaded from the model_fn.\n",
    "\n",
    "    WARNING - modifying this function may cause the submission process to fail.\n",
    "    \"\"\"\n",
    "    #sm_model_dir = os.path.join(model_dir, model_version)\n",
    "    sm_model_dir = model_dir\n",
    "    if (not os.path.isdir(sm_model_dir)):\n",
    "        os.makedirs(sm_model_dir)\n",
    "        \n",
    "    logger.info(f\" model dir is {model_dir}\")\n",
    "    model.save(sm_model_dir)\n",
    "    \n",
    "    modelPath = os.path.join(sm_model_dir, 'output')\n",
    "    if (not os.path.isdir(modelPath)):\n",
    "        os.makedirs(modelPath)\n",
    "    #if (not os.path.isdir(sm_model_dir + '/code')):\n",
    "        #os.makedirs(sm_model_dir + '/code')\n",
    "\n",
    "    # Move inference.py so it gets picked up in the archive\n",
    "    #copyfile('/content/sample_data/inference.py', sm_model_dir + '/code/inference.py')\n",
    "    #copyfile('/content/sample_data/inference-requirements.txt', sm_model_dir+ '/code/requirements.txt')\n",
    "\n",
    "    with tarfile.open(os.path.join(modelPath, 'model.tar.gz'), mode='x:gz') as archive:\n",
    "        archive.add(sm_model_dir, recursive=True)\n",
    "\n",
    "def model_fn(model_dir):\n",
    "    \"\"\"Load model from binary file.\n",
    "\n",
    "    This function loads the model from disk. It is called by SageMaker.\n",
    "\n",
    "    WARNING - modifying this function may case the submission process to fail.\n",
    "    \"\"\"\n",
    "    #model_filepath = os.path.join(model_dir,  model_version)\n",
    "    #logger.info(\"loading model from \" + model_filepath)\n",
    "    model = keras.models.load_model('best.h5',custom_objects={'acc_grain':acc_grain},compile=False)\n",
    "    return model"
   ]
  },
  {
   "cell_type": "code",
   "execution_count": 3,
   "metadata": {},
   "outputs": [
    {
     "name": "stdout",
     "output_type": "stream",
     "text": [
      "WARNING:tensorflow:From <ipython-input-3-17bb7203622b>:1: is_gpu_available (from tensorflow.python.framework.test_util) is deprecated and will be removed in a future version.\n",
      "Instructions for updating:\n",
      "Use `tf.config.list_physical_devices('GPU')` instead.\n"
     ]
    },
    {
     "name": "stderr",
     "output_type": "stream",
     "text": [
      "WARNING:tensorflow:From <ipython-input-3-17bb7203622b>:1: is_gpu_available (from tensorflow.python.framework.test_util) is deprecated and will be removed in a future version.\n",
      "Instructions for updating:\n",
      "Use `tf.config.list_physical_devices('GPU')` instead.\n"
     ]
    },
    {
     "data": {
      "text/plain": [
       "True"
      ]
     },
     "execution_count": 3,
     "metadata": {},
     "output_type": "execute_result"
    }
   ],
   "source": [
    "tf.test.is_gpu_available()"
   ]
  },
  {
   "cell_type": "code",
   "execution_count": 4,
   "metadata": {},
   "outputs": [
    {
     "data": {
      "text/plain": [
       "'/device:GPU:0'"
      ]
     },
     "execution_count": 4,
     "metadata": {},
     "output_type": "execute_result"
    }
   ],
   "source": [
    "tf.test.gpu_device_name() "
   ]
  },
  {
   "cell_type": "code",
   "execution_count": 5,
   "metadata": {
    "colab": {
     "base_uri": "https://localhost:8080/",
     "height": 459
    },
    "executionInfo": {
     "elapsed": 38441,
     "status": "error",
     "timestamp": 1624440265326,
     "user": {
      "displayName": "ramdhan wibawa",
      "photoUrl": "",
      "userId": "14519448541243845830"
     },
     "user_tz": -420
    },
    "id": "RLmWtwmRfh6P",
    "outputId": "e5e2ae19-620c-4d31-f907-12bb2132639e"
   },
   "outputs": [
    {
     "name": "stderr",
     "output_type": "stream",
     "text": [
      "INFO:__main__:calling training function\n"
     ]
    },
    {
     "name": "stdout",
     "output_type": "stream",
     "text": [
      "Found 19182 files belonging to 28 classes.\n",
      "Found 7648 files belonging to 28 classes.\n"
     ]
    },
    {
     "name": "stderr",
     "output_type": "stream",
     "text": [
      "C:\\Users\\Owner\\AppData\\Roaming\\Python\\Python36\\site-packages\\tensorflow\\python\\autograph\\impl\\api.py:493: UserWarning: fill_value is not supported and is always 0 for TensorFlow < 2.4.0.\n",
      "  return py_builtins.overload_of(f)(*args)\n",
      "INFO:__main__:Training Model\n",
      "INFO:__main__:number of classes is 28\n"
     ]
    },
    {
     "name": "stdout",
     "output_type": "stream",
     "text": [
      "\n",
      "Epoch 00001: LearningRateScheduler reducing learning rate to 0.0.\n",
      "Epoch 1/10\n",
      "600/600 [==============================] - ETA: 0s - loss: 27.8429 - acc_grain: 0.0239\n",
      "Epoch 00001: val_acc_grain improved from -inf to 0.01010, saving model to best.h5\n",
      "600/600 [==============================] - 645s 1s/step - loss: 27.8429 - acc_grain: 0.0239 - val_loss: 3.5973 - val_acc_grain: 0.0101\n",
      "\n",
      "Epoch 00002: LearningRateScheduler reducing learning rate to 0.00025.\n",
      "Epoch 2/10\n",
      "600/600 [==============================] - ETA: 0s - loss: 3.5621 - acc_grain: 0.8808\n",
      "Epoch 00002: val_acc_grain improved from 0.01010 to 0.94413, saving model to best.h5\n",
      "600/600 [==============================] - 645s 1s/step - loss: 3.5621 - acc_grain: 0.8808 - val_loss: 1.4043 - val_acc_grain: 0.9441\n",
      "\n",
      "Epoch 00003: LearningRateScheduler reducing learning rate to 0.0005.\n",
      "Epoch 3/10\n",
      "600/600 [==============================] - ETA: 0s - loss: 2.2051 - acc_grain: 0.9204\n",
      "Epoch 00003: val_acc_grain improved from 0.94413 to 0.95238, saving model to best.h5\n",
      "600/600 [==============================] - 648s 1s/step - loss: 2.2051 - acc_grain: 0.9204 - val_loss: 1.0663 - val_acc_grain: 0.9524\n",
      "\n",
      "Epoch 00004: LearningRateScheduler reducing learning rate to 0.00075.\n",
      "Epoch 4/10\n",
      "600/600 [==============================] - ETA: 0s - loss: 1.7906 - acc_grain: 0.9335\n",
      "Epoch 00004: val_acc_grain improved from 0.95238 to 0.95663, saving model to best.h5\n",
      "600/600 [==============================] - 652s 1s/step - loss: 1.7906 - acc_grain: 0.9335 - val_loss: 0.9459 - val_acc_grain: 0.9566\n",
      "\n",
      "Epoch 00005: LearningRateScheduler reducing learning rate to 0.001.\n",
      "Epoch 5/10\n",
      "600/600 [==============================] - ETA: 0s - loss: 1.5981 - acc_grain: 0.9385\n",
      "Epoch 00005: val_acc_grain did not improve from 0.95663\n",
      "600/600 [==============================] - 654s 1s/step - loss: 1.5981 - acc_grain: 0.9385 - val_loss: 0.8817 - val_acc_grain: 0.9555\n",
      "\n",
      "Epoch 00006: LearningRateScheduler reducing learning rate to 0.0009330127018922195.\n",
      "Epoch 6/10\n",
      "600/600 [==============================] - ETA: 0s - loss: 1.5052 - acc_grain: 0.9397\n",
      "Epoch 00006: val_acc_grain improved from 0.95663 to 0.95805, saving model to best.h5\n",
      "600/600 [==============================] - 1779s 3s/step - loss: 1.5052 - acc_grain: 0.9397 - val_loss: 0.8271 - val_acc_grain: 0.9580\n",
      "\n",
      "Epoch 00007: LearningRateScheduler reducing learning rate to 0.00075.\n",
      "Epoch 7/10\n",
      "600/600 [==============================] - ETA: 0s - loss: 1.4004 - acc_grain: 0.9444\n",
      "Epoch 00007: val_acc_grain improved from 0.95805 to 0.96038, saving model to best.h5\n",
      "600/600 [==============================] - 652s 1s/step - loss: 1.4004 - acc_grain: 0.9444 - val_loss: 0.7400 - val_acc_grain: 0.9604\n",
      "\n",
      "Epoch 00008: LearningRateScheduler reducing learning rate to 0.0005.\n",
      "Epoch 8/10\n",
      "600/600 [==============================] - ETA: 0s - loss: 1.3273 - acc_grain: 0.9467\n",
      "Epoch 00008: val_acc_grain improved from 0.96038 to 0.96045, saving model to best.h5\n",
      "600/600 [==============================] - 646s 1s/step - loss: 1.3273 - acc_grain: 0.9467 - val_loss: 0.7359 - val_acc_grain: 0.9605\n",
      "\n",
      "Epoch 00009: LearningRateScheduler reducing learning rate to 0.0002500000000000001.\n",
      "Epoch 9/10\n",
      "600/600 [==============================] - ETA: 0s - loss: 1.2698 - acc_grain: 0.9481\n",
      "Epoch 00009: val_acc_grain improved from 0.96045 to 0.96174, saving model to best.h5\n",
      "600/600 [==============================] - 651s 1s/step - loss: 1.2698 - acc_grain: 0.9481 - val_loss: 0.7017 - val_acc_grain: 0.9617\n",
      "\n",
      "Epoch 00010: LearningRateScheduler reducing learning rate to 6.698729810778065e-05.\n",
      "Epoch 10/10\n",
      "600/600 [==============================] - ETA: 0s - loss: 1.2321 - acc_grain: 0.9497\n",
      "Epoch 00010: val_acc_grain improved from 0.96174 to 0.96261, saving model to best.h5\n",
      "600/600 [==============================] - 650s 1s/step - loss: 1.2321 - acc_grain: 0.9497 - val_loss: 0.6953 - val_acc_grain: 0.9626\n",
      "duration run 2.1258253539270826  hours\n"
     ]
    }
   ],
   "source": [
    "if __name__ == \"__main__\":\n",
    "    \"\"\"Training Main\n",
    "\n",
    "    The main function is called by both Unearthed's SageMaker pipeline and the\n",
    "    Unearthed CLI's \"unearthed train\" command.\n",
    "    \n",
    "    WARNING - modifying this function may cause the submission process to fail.\n",
    "\n",
    "    The main function must call preprocess, arrange th\n",
    "    \"\"\"\n",
    "    \n",
    "    args = {'model_dir': \"D:/Ramdhan/Unearth/visual-grain-analysis/models/\",\n",
    "           'data_dir' : \"D:/Ramdhan/Unearth/visual-grain-analysis/data/public/\"}\n",
    "    start = time.time()\n",
    "    history = train(args)\n",
    "    print('duration run',(time.time()-start)/60/60,' hours')"
   ]
  },
  {
   "cell_type": "code",
   "execution_count": 6,
   "metadata": {},
   "outputs": [
    {
     "data": {
      "image/png": "[encoded data removed]",
      "text/plain": [
       "<Figure size 2160x1440 with 2 Axes>"
      ]
     },
     "metadata": {
      "needs_background": "light"
     },
     "output_type": "display_data"
    }
   ],
   "source": [
    "import matplotlib.pyplot as plt\n",
    "# Plot training & validation iou_score values\n",
    "plt.figure(figsize=(30, 20))\n",
    "plt.subplot(121)\n",
    "plt.plot(history.history['acc_grain'])\n",
    "plt.plot(history.history['val_acc_grain'])\n",
    "plt.title('Model acc_score')\n",
    "plt.ylabel('acc_score')\n",
    "plt.xlabel('Epoch')\n",
    "plt.legend(['Train', 'Test'], loc='upper left')\n",
    "\n",
    "# Plot training & validation loss values\n",
    "plt.subplot(122)\n",
    "plt.plot(history.history['loss'])\n",
    "plt.plot(history.history['val_loss'])\n",
    "plt.title('Model loss')\n",
    "plt.ylabel('Loss')\n",
    "plt.xlabel('Epoch')\n",
    "plt.legend(['Train', 'Test'], loc='upper left')\n",
    "plt.show()"
   ]
  },
  {
   "cell_type": "code",
   "execution_count": 13,
   "metadata": {},
   "outputs": [],
   "source": [
    "def random_rotation(image_array):\n",
    "    # pick a random degree of rotation between 25% on the left and 25% on the right\n",
    "    random_degree = random.uniform(-180, 180)\n",
    "    return rotate(image_array, random_degree, mode='edge')\n",
    "\n",
    "def defined_rotation(image_array, degree):\n",
    "    # pick a random degree of rotation between 25% on the left and 25% on the right\n",
    "    return rotate(image_array, degree, mode='edge')\n",
    "\n",
    "def random_rotation_tensor(image):\n",
    "    degree = tf.random.normal([])*360\n",
    "    image = tf.convert_to_tensor(image, np.float32)\n",
    "    image = tfa.image.rotate(image, degree * math.pi / 180)\n",
    "    return image.numpy()"
   ]
  },
  {
   "cell_type": "code",
   "execution_count": 14,
   "metadata": {},
   "outputs": [],
   "source": [
    "class TTA_ModelWrapper():\n",
    "    \"\"\"A simple TTA wrapper for keras computer vision models.\n",
    "    Args:\n",
    "        model (keras model): A fitted keras model with a predict method.\n",
    "    \"\"\"\n",
    "\n",
    "    def __init__(self, model):\n",
    "        self.model = model\n",
    "\n",
    "    def predict(self, X):\n",
    "        \"\"\"Wraps the predict method of the provided model.\n",
    "        Augments the testdata with horizontal and vertical flips and\n",
    "        averages the results.\n",
    "        Args:\n",
    "            X (numpy array of dim 4): The data to get predictions for.\n",
    "        \"\"\"\n",
    "        pred = []\n",
    "        #angle = [45,90,135,180,225, 270,315, 360]\n",
    "        #p0 = self.model.predict(X)\n",
    "        #pred.append(p0.ravel())\n",
    "        for i in range(5):\n",
    "            if i ==0:\n",
    "                p = self.model.predict(X)\n",
    "            else:\n",
    "                #p = self.model.predict(np.expand_dims(random_rotation(X[0]),axis=0)) \n",
    "                #p = self.model.predict(np.expand_dims(defined_rotation(X[0],angle[i]),axis=0))\n",
    "                p = self.model.predict(np.expand_dims(random_rotation_tensor(X[0]),axis=0)) \n",
    "            pred.append(p.ravel())\n",
    "        #return np.expand_dims(np.mean(np.array(pred),axis=0),axis=0) \n",
    "        return np.expand_dims(gmean(np.array(pred),axis=0),axis=0) "
   ]
  },
  {
   "cell_type": "code",
   "execution_count": 15,
   "metadata": {
    "colab": {
     "base_uri": "https://localhost:8080/",
     "height": 350
    },
    "executionInfo": {
     "elapsed": 2298,
     "status": "error",
     "timestamp": 1624373965288,
     "user": {
      "displayName": "ramdhan wibawa",
      "photoUrl": "",
      "userId": "14519448541243845830"
     },
     "user_tz": -420
    },
    "id": "UejZgfeXZ5C7",
    "outputId": "fbfcc699-a9ac-4b16-ccbb-0a8c4a25222e"
   },
   "outputs": [
    {
     "name": "stderr",
     "output_type": "stream",
     "text": [
      "INFO:__main__:loading the model\n",
      "INFO:__main__:Reading the test set\n",
      "C:\\Users\\Owner\\Anaconda3\\envs\\object_detection_gpu\\lib\\site-packages\\tensorflow_addons\\image\\transform_ops.py:143: UserWarning: fill_value is not supported and is always 0 for TensorFlow < 2.4.0.\n",
      "  \"fill_value is not supported and is always 0 for TensorFlow < 2.4.0.\"\n",
      "INFO:__main__:predictions have shape of (7648, 9)\n"
     ]
    },
    {
     "name": "stdout",
     "output_type": "stream",
     "text": [
      "Accuracy Score:0.9665901232206283\n",
      "Duration Run 0.8838400470548206  hours\n"
     ]
    }
   ],
   "source": [
    "from tensorflow.keras.preprocessing import image\n",
    "import pandas as pd\n",
    "import zipfile\n",
    "import csv\n",
    "from tta_wrapper import tta_segmentation\n",
    "\n",
    "start = time.time()\n",
    "\n",
    "def load_class_list(class_list_file):\n",
    "    class_list = []\n",
    "    with open(class_list_file, 'r') as csvfile:\n",
    "        file_reader = csv.reader(csvfile)\n",
    "        for row in file_reader:\n",
    "            class_list.append(row[0])\n",
    "    class_list.sort()\n",
    "    return class_list\n",
    "\n",
    "class_list = load_class_list('class_list.txt')\n",
    "\n",
    "IMG_SIZE=224\n",
    "LBL = dict(zip(class_list, range(28)))\n",
    "\n",
    "cls_map = dict(zip(LBL.values(),LBL.keys()))\n",
    "\n",
    "def init_dir(pth):\n",
    "    if os.path.exists(pth):\n",
    "        shutil.rmtree(pth)\n",
    "    os.mkdir(pth)\n",
    "\n",
    "logger.info(\"loading the model\")\n",
    "model = model_fn(args['model_dir'])\n",
    "logger.info(\"Reading the test set\")\n",
    "\n",
    "#model1 = tta_classification(model, h_flip=False, rotation=(0, 360), merge='mean')\n",
    "model = TTA_ModelWrapper(model)\n",
    "#model1 = myPredictor(model,conf)\n",
    "\n",
    "res = []\n",
    "for fn in glob.iglob(args['data_dir'] + 'val/**/*.png', recursive=True):\n",
    "    file_name = os.path.basename(fn)\n",
    "    path = os.path.abspath(fn)\n",
    "    folder = os.path.split(os.path.dirname(path))[1]\n",
    "    if len(file_name.split(\"-\")) > 2:  # ignore master image with may grains, raw image names are in guid format\n",
    "        im = image.load_img(path, target_size=(IMG_SIZE, IMG_SIZE))\n",
    "        img_array = image.img_to_array(im)\n",
    "        img_batch = np.expand_dims(img_array, axis=0)\n",
    "        img_preprocessed = preprocess_input(img_batch)\n",
    "        pred = model.predict(img_preprocessed)\n",
    "        top3 = (-pred[0]).argsort()[:3]\n",
    "        res.append({'file_name': file_name, 'path': path, 'cls': folder, 'prediction':top3[0],  'proba_1':pred[0][top3[0]], 'prediction2':top3[1], 'proba_2':pred[0][top3[1]],  'prediction3':top3[2], 'proba_3':pred[0][top3[2]]})\n",
    "\n",
    "df = pd.DataFrame(res)\n",
    "df['prediction'] = df.prediction.map(cls_map)\n",
    "df['prediction2'] = df.prediction2.map(cls_map)\n",
    "df['prediction3'] = df.prediction3.map(cls_map)\n",
    "\n",
    "from sklearn.metrics import accuracy_score\n",
    "\n",
    "def w(x):\n",
    "    if \"_SOUND\" in x:\n",
    "        return 8.94 # weighting  Healthy grains more important than defective grains\n",
    "    return 1\n",
    "\n",
    "def scoring_fn(df):\n",
    "    \"\"\"\n",
    "    Weighted Accuracy Metric 90% Healthy grains, 10% unhealthy grains\n",
    "    \"\"\"\n",
    "    df['weight'] = df.cls.apply(w)\n",
    "    return accuracy_score(df.cls,df.prediction,sample_weight=df.weight)\n",
    "\n",
    "logger.info(f\"predictions have shape of {df.shape}\")\n",
    "\n",
    "score = scoring_fn(df)\n",
    "print (\"Accuracy Score:\" + str(score))\n",
    "# write to the output location\n",
    "\n",
    "print('Duration Run',(time.time()-start)/3600,' hours')"
   ]
  },
  {
   "cell_type": "code",
   "execution_count": null,
   "metadata": {},
   "outputs": [],
   "source": [
    "0.965"
   ]
  },
  {
   "cell_type": "code",
   "execution_count": 9,
   "metadata": {},
   "outputs": [
    {
     "name": "stdout",
     "output_type": "stream",
     "text": [
      "               precision    recall  f1-score   support\n",
      "\n",
      "     B_BSMUT1       0.98      0.90      0.94       105\n",
      "     B_CLEV5B       0.95      0.41      0.57       100\n",
      "      B_DISTO       0.93      0.43      0.59       100\n",
      "     B_GRMEND       0.98      0.51      0.67        88\n",
      "     B_HDBARL       0.67      0.33      0.44        30\n",
      "     B_PICKLD       0.96      0.47      0.63        92\n",
      "     B_SKINED       1.00      0.20      0.34        88\n",
      "      B_SOUND       0.81      1.00      0.89      1653\n",
      "     B_SPRTED       1.00      0.87      0.93        93\n",
      "     B_SPTMLD       0.90      0.23      0.37       112\n",
      "      O_GROAT       1.00      0.78      0.88        90\n",
      "     O_HDOATS       0.76      0.26      0.39        99\n",
      "     O_SEPAFF       0.94      0.72      0.81       109\n",
      "      O_SOUND       0.92      1.00      0.96      1988\n",
      "     O_SPOTMA       0.83      0.29      0.43       103\n",
      "   WD_RADPODS       0.99      0.99      0.99        94\n",
      "  WD_RYEGRASS       0.96      0.94      0.95        87\n",
      "WD_SPEARGRASS       0.99      0.95      0.97        94\n",
      "  WD_WILDOATS       1.00      0.99      0.99        92\n",
      "      W_DISTO       0.87      0.66      0.75       102\n",
      "     W_FLDFUN       0.74      0.16      0.27       105\n",
      "     W_INSDA2       0.89      0.60      0.72        97\n",
      "     W_PICKLE       0.96      0.88      0.92       104\n",
      "     W_SEVERE       0.97      0.93      0.95       101\n",
      "      W_SOUND       0.83      1.00      0.90      1611\n",
      "     W_SPROUT       0.97      0.33      0.50       108\n",
      "     W_STAIND       0.75      0.43      0.55        92\n",
      "     W_WHITEG       0.93      0.47      0.62       111\n",
      "\n",
      "     accuracy                           0.87      7648\n",
      "    macro avg       0.91      0.63      0.71      7648\n",
      " weighted avg       0.88      0.87      0.85      7648\n",
      "\n"
     ]
    }
   ],
   "source": [
    "from sklearn.metrics import classification_report\n",
    "print(classification_report(df['cls'], df['prediction']))"
   ]
  },
  {
   "cell_type": "code",
   "execution_count": 9,
   "metadata": {},
   "outputs": [
    {
     "data": {
      "image/png": "[encoded data removed]",
      "text/plain": [
       "<Figure size 1080x1080 with 2 Axes>"
      ]
     },
     "metadata": {
      "needs_background": "light"
     },
     "output_type": "display_data"
    }
   ],
   "source": [
    "import matplotlib.pyplot as plt\n",
    "from sklearn.metrics import confusion_matrix\n",
    "ticks=np.linspace(0, 27,num=28)\n",
    "plt.figure(figsize=(15,15))\n",
    "plt.imshow(confusion_matrix(df['cls'], df['prediction'],normalize='true'), interpolation='none')\n",
    "plt.colorbar()\n",
    "plt.xticks(ticks,fontsize=6)\n",
    "plt.yticks(ticks,fontsize=6)\n",
    "plt.grid(True)\n",
    "plt.show()"
   ]
  },
  {
   "cell_type": "code",
   "execution_count": null,
   "metadata": {
    "id": "WZXP_9Kzfh6Q"
   },
   "outputs": [],
   "source": [
    "from keras_preprocessing import image"
   ]
  },
  {
   "cell_type": "code",
   "execution_count": null,
   "metadata": {
    "id": "s0bgHcc9rskI"
   },
   "outputs": [],
   "source": [
    "NUM_CLASSES=28\n",
    "model = build_model(num_classes=NUM_CLASSES)\n",
    "model.fit?"
   ]
  },
  {
   "cell_type": "code",
   "execution_count": null,
   "metadata": {
    "id": "3Fcx6Qvnfh6Q",
    "outputId": "fc7bceb9-5ffb-46bc-ffaf-7e1cf07f05c0"
   },
   "outputs": [],
   "source": [
    "image.random_rotation(90)"
   ]
  },
  {
   "cell_type": "code",
   "execution_count": null,
   "metadata": {
    "id": "saWJd9X3fh6R"
   },
   "outputs": [],
   "source": [
    " rotation_range=args.rotation,\n",
    "      shear_range=args.shear,\n",
    "      zoom_range=args.zoom,\n",
    "      horizontal_flip=args.h_flip,\n",
    "      vertical_flip=args.v_flip"
   ]
  }
 ],
 "metadata": {
  "accelerator": "GPU",
  "colab": {
   "collapsed_sections": [],
   "name": "grain_unearth.ipynb",
   "provenance": []
  },
  "kernelspec": {
   "display_name": "Python 3",
   "language": "python",
   "name": "python3"
  },
  "language_info": {
   "codemirror_mode": {
    "name": "ipython",
    "version": 3
   },
   "file_extension": ".py",
   "mimetype": "text/x-python",
   "name": "python",
   "nbconvert_exporter": "python",
   "pygments_lexer": "ipython3",
   "version": "3.7.7"
  }
 },
 "nbformat": 4,
 "nbformat_minor": 1
}
